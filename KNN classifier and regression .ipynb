{
 "cells": [
  {
   "cell_type": "code",
   "execution_count": 181,
   "metadata": {},
   "outputs": [],
   "source": [
    "import pandas as pd\n",
    "import numpy as np"
   ]
  },
  {
   "cell_type": "code",
   "execution_count": 182,
   "metadata": {},
   "outputs": [],
   "source": [
    "df = pd.read_csv('heart.csv')"
   ]
  },
  {
   "cell_type": "code",
   "execution_count": 183,
   "metadata": {},
   "outputs": [
    {
     "data": {
      "text/html": [
       "<div>\n",
       "<style scoped>\n",
       "    .dataframe tbody tr th:only-of-type {\n",
       "        vertical-align: middle;\n",
       "    }\n",
       "\n",
       "    .dataframe tbody tr th {\n",
       "        vertical-align: top;\n",
       "    }\n",
       "\n",
       "    .dataframe thead th {\n",
       "        text-align: right;\n",
       "    }\n",
       "</style>\n",
       "<table border=\"1\" class=\"dataframe\">\n",
       "  <thead>\n",
       "    <tr style=\"text-align: right;\">\n",
       "      <th></th>\n",
       "      <th>age</th>\n",
       "      <th>sex</th>\n",
       "      <th>chest_pain_type</th>\n",
       "      <th>resting_bp</th>\n",
       "      <th>cholestoral</th>\n",
       "      <th>fasting_blood_sugar</th>\n",
       "      <th>restecg</th>\n",
       "      <th>max_hr</th>\n",
       "      <th>exang</th>\n",
       "      <th>oldpeak</th>\n",
       "      <th>slope</th>\n",
       "      <th>num_major_vessels</th>\n",
       "      <th>thal</th>\n",
       "      <th>target</th>\n",
       "    </tr>\n",
       "  </thead>\n",
       "  <tbody>\n",
       "    <tr>\n",
       "      <th>0</th>\n",
       "      <td>63</td>\n",
       "      <td>1</td>\n",
       "      <td>3</td>\n",
       "      <td>145</td>\n",
       "      <td>233</td>\n",
       "      <td>1</td>\n",
       "      <td>0</td>\n",
       "      <td>150</td>\n",
       "      <td>0</td>\n",
       "      <td>2.3</td>\n",
       "      <td>0</td>\n",
       "      <td>0</td>\n",
       "      <td>1</td>\n",
       "      <td>1</td>\n",
       "    </tr>\n",
       "    <tr>\n",
       "      <th>1</th>\n",
       "      <td>37</td>\n",
       "      <td>1</td>\n",
       "      <td>2</td>\n",
       "      <td>130</td>\n",
       "      <td>250</td>\n",
       "      <td>0</td>\n",
       "      <td>1</td>\n",
       "      <td>187</td>\n",
       "      <td>0</td>\n",
       "      <td>3.5</td>\n",
       "      <td>0</td>\n",
       "      <td>0</td>\n",
       "      <td>2</td>\n",
       "      <td>1</td>\n",
       "    </tr>\n",
       "    <tr>\n",
       "      <th>2</th>\n",
       "      <td>41</td>\n",
       "      <td>0</td>\n",
       "      <td>1</td>\n",
       "      <td>130</td>\n",
       "      <td>204</td>\n",
       "      <td>0</td>\n",
       "      <td>0</td>\n",
       "      <td>172</td>\n",
       "      <td>0</td>\n",
       "      <td>1.4</td>\n",
       "      <td>2</td>\n",
       "      <td>0</td>\n",
       "      <td>2</td>\n",
       "      <td>1</td>\n",
       "    </tr>\n",
       "    <tr>\n",
       "      <th>3</th>\n",
       "      <td>56</td>\n",
       "      <td>1</td>\n",
       "      <td>1</td>\n",
       "      <td>120</td>\n",
       "      <td>236</td>\n",
       "      <td>0</td>\n",
       "      <td>1</td>\n",
       "      <td>178</td>\n",
       "      <td>0</td>\n",
       "      <td>0.8</td>\n",
       "      <td>2</td>\n",
       "      <td>0</td>\n",
       "      <td>2</td>\n",
       "      <td>1</td>\n",
       "    </tr>\n",
       "    <tr>\n",
       "      <th>4</th>\n",
       "      <td>57</td>\n",
       "      <td>0</td>\n",
       "      <td>0</td>\n",
       "      <td>120</td>\n",
       "      <td>354</td>\n",
       "      <td>0</td>\n",
       "      <td>1</td>\n",
       "      <td>163</td>\n",
       "      <td>1</td>\n",
       "      <td>0.6</td>\n",
       "      <td>2</td>\n",
       "      <td>0</td>\n",
       "      <td>2</td>\n",
       "      <td>1</td>\n",
       "    </tr>\n",
       "    <tr>\n",
       "      <th>...</th>\n",
       "      <td>...</td>\n",
       "      <td>...</td>\n",
       "      <td>...</td>\n",
       "      <td>...</td>\n",
       "      <td>...</td>\n",
       "      <td>...</td>\n",
       "      <td>...</td>\n",
       "      <td>...</td>\n",
       "      <td>...</td>\n",
       "      <td>...</td>\n",
       "      <td>...</td>\n",
       "      <td>...</td>\n",
       "      <td>...</td>\n",
       "      <td>...</td>\n",
       "    </tr>\n",
       "    <tr>\n",
       "      <th>298</th>\n",
       "      <td>57</td>\n",
       "      <td>0</td>\n",
       "      <td>0</td>\n",
       "      <td>140</td>\n",
       "      <td>241</td>\n",
       "      <td>0</td>\n",
       "      <td>1</td>\n",
       "      <td>123</td>\n",
       "      <td>1</td>\n",
       "      <td>0.2</td>\n",
       "      <td>1</td>\n",
       "      <td>0</td>\n",
       "      <td>3</td>\n",
       "      <td>0</td>\n",
       "    </tr>\n",
       "    <tr>\n",
       "      <th>299</th>\n",
       "      <td>45</td>\n",
       "      <td>1</td>\n",
       "      <td>3</td>\n",
       "      <td>110</td>\n",
       "      <td>264</td>\n",
       "      <td>0</td>\n",
       "      <td>1</td>\n",
       "      <td>132</td>\n",
       "      <td>0</td>\n",
       "      <td>1.2</td>\n",
       "      <td>1</td>\n",
       "      <td>0</td>\n",
       "      <td>3</td>\n",
       "      <td>0</td>\n",
       "    </tr>\n",
       "    <tr>\n",
       "      <th>300</th>\n",
       "      <td>68</td>\n",
       "      <td>1</td>\n",
       "      <td>0</td>\n",
       "      <td>144</td>\n",
       "      <td>193</td>\n",
       "      <td>1</td>\n",
       "      <td>1</td>\n",
       "      <td>141</td>\n",
       "      <td>0</td>\n",
       "      <td>3.4</td>\n",
       "      <td>1</td>\n",
       "      <td>2</td>\n",
       "      <td>3</td>\n",
       "      <td>0</td>\n",
       "    </tr>\n",
       "    <tr>\n",
       "      <th>301</th>\n",
       "      <td>57</td>\n",
       "      <td>1</td>\n",
       "      <td>0</td>\n",
       "      <td>130</td>\n",
       "      <td>131</td>\n",
       "      <td>0</td>\n",
       "      <td>1</td>\n",
       "      <td>115</td>\n",
       "      <td>1</td>\n",
       "      <td>1.2</td>\n",
       "      <td>1</td>\n",
       "      <td>1</td>\n",
       "      <td>3</td>\n",
       "      <td>0</td>\n",
       "    </tr>\n",
       "    <tr>\n",
       "      <th>302</th>\n",
       "      <td>57</td>\n",
       "      <td>0</td>\n",
       "      <td>1</td>\n",
       "      <td>130</td>\n",
       "      <td>236</td>\n",
       "      <td>0</td>\n",
       "      <td>0</td>\n",
       "      <td>174</td>\n",
       "      <td>0</td>\n",
       "      <td>0.0</td>\n",
       "      <td>1</td>\n",
       "      <td>1</td>\n",
       "      <td>2</td>\n",
       "      <td>0</td>\n",
       "    </tr>\n",
       "  </tbody>\n",
       "</table>\n",
       "<p>303 rows × 14 columns</p>\n",
       "</div>"
      ],
      "text/plain": [
       "     age  sex  chest_pain_type  resting_bp  cholestoral  fasting_blood_sugar  \\\n",
       "0     63    1                3         145          233                    1   \n",
       "1     37    1                2         130          250                    0   \n",
       "2     41    0                1         130          204                    0   \n",
       "3     56    1                1         120          236                    0   \n",
       "4     57    0                0         120          354                    0   \n",
       "..   ...  ...              ...         ...          ...                  ...   \n",
       "298   57    0                0         140          241                    0   \n",
       "299   45    1                3         110          264                    0   \n",
       "300   68    1                0         144          193                    1   \n",
       "301   57    1                0         130          131                    0   \n",
       "302   57    0                1         130          236                    0   \n",
       "\n",
       "     restecg  max_hr  exang  oldpeak  slope  num_major_vessels  thal  target  \n",
       "0          0     150      0      2.3      0                  0     1       1  \n",
       "1          1     187      0      3.5      0                  0     2       1  \n",
       "2          0     172      0      1.4      2                  0     2       1  \n",
       "3          1     178      0      0.8      2                  0     2       1  \n",
       "4          1     163      1      0.6      2                  0     2       1  \n",
       "..       ...     ...    ...      ...    ...                ...   ...     ...  \n",
       "298        1     123      1      0.2      1                  0     3       0  \n",
       "299        1     132      0      1.2      1                  0     3       0  \n",
       "300        1     141      0      3.4      1                  2     3       0  \n",
       "301        1     115      1      1.2      1                  1     3       0  \n",
       "302        0     174      0      0.0      1                  1     2       0  \n",
       "\n",
       "[303 rows x 14 columns]"
      ]
     },
     "execution_count": 183,
     "metadata": {},
     "output_type": "execute_result"
    }
   ],
   "source": [
    "df"
   ]
  },
  {
   "cell_type": "code",
   "execution_count": 184,
   "metadata": {},
   "outputs": [
    {
     "data": {
      "text/plain": [
       "age                    0\n",
       "sex                    0\n",
       "chest_pain_type        0\n",
       "resting_bp             0\n",
       "cholestoral            0\n",
       "fasting_blood_sugar    0\n",
       "restecg                0\n",
       "max_hr                 0\n",
       "exang                  0\n",
       "oldpeak                0\n",
       "slope                  0\n",
       "num_major_vessels      0\n",
       "thal                   0\n",
       "target                 0\n",
       "dtype: int64"
      ]
     },
     "execution_count": 184,
     "metadata": {},
     "output_type": "execute_result"
    }
   ],
   "source": [
    "df.isnull().sum()"
   ]
  },
  {
   "cell_type": "code",
   "execution_count": 185,
   "metadata": {},
   "outputs": [],
   "source": [
    "from sklearn.model_selection import train_test_split\n",
    "X_train, X_test, y_train, y_test = train_test_split(df.drop('target',axis=1), df['target'], test_size=0.30, random_state=101)\n"
   ]
  },
  {
   "cell_type": "code",
   "execution_count": 186,
   "metadata": {},
   "outputs": [
    {
     "data": {
      "text/html": [
       "<style>#sk-container-id-29 {color: black;}#sk-container-id-29 pre{padding: 0;}#sk-container-id-29 div.sk-toggleable {background-color: white;}#sk-container-id-29 label.sk-toggleable__label {cursor: pointer;display: block;width: 100%;margin-bottom: 0;padding: 0.3em;box-sizing: border-box;text-align: center;}#sk-container-id-29 label.sk-toggleable__label-arrow:before {content: \"▸\";float: left;margin-right: 0.25em;color: #696969;}#sk-container-id-29 label.sk-toggleable__label-arrow:hover:before {color: black;}#sk-container-id-29 div.sk-estimator:hover label.sk-toggleable__label-arrow:before {color: black;}#sk-container-id-29 div.sk-toggleable__content {max-height: 0;max-width: 0;overflow: hidden;text-align: left;background-color: #f0f8ff;}#sk-container-id-29 div.sk-toggleable__content pre {margin: 0.2em;color: black;border-radius: 0.25em;background-color: #f0f8ff;}#sk-container-id-29 input.sk-toggleable__control:checked~div.sk-toggleable__content {max-height: 200px;max-width: 100%;overflow: auto;}#sk-container-id-29 input.sk-toggleable__control:checked~label.sk-toggleable__label-arrow:before {content: \"▾\";}#sk-container-id-29 div.sk-estimator input.sk-toggleable__control:checked~label.sk-toggleable__label {background-color: #d4ebff;}#sk-container-id-29 div.sk-label input.sk-toggleable__control:checked~label.sk-toggleable__label {background-color: #d4ebff;}#sk-container-id-29 input.sk-hidden--visually {border: 0;clip: rect(1px 1px 1px 1px);clip: rect(1px, 1px, 1px, 1px);height: 1px;margin: -1px;overflow: hidden;padding: 0;position: absolute;width: 1px;}#sk-container-id-29 div.sk-estimator {font-family: monospace;background-color: #f0f8ff;border: 1px dotted black;border-radius: 0.25em;box-sizing: border-box;margin-bottom: 0.5em;}#sk-container-id-29 div.sk-estimator:hover {background-color: #d4ebff;}#sk-container-id-29 div.sk-parallel-item::after {content: \"\";width: 100%;border-bottom: 1px solid gray;flex-grow: 1;}#sk-container-id-29 div.sk-label:hover label.sk-toggleable__label {background-color: #d4ebff;}#sk-container-id-29 div.sk-serial::before {content: \"\";position: absolute;border-left: 1px solid gray;box-sizing: border-box;top: 0;bottom: 0;left: 50%;z-index: 0;}#sk-container-id-29 div.sk-serial {display: flex;flex-direction: column;align-items: center;background-color: white;padding-right: 0.2em;padding-left: 0.2em;position: relative;}#sk-container-id-29 div.sk-item {position: relative;z-index: 1;}#sk-container-id-29 div.sk-parallel {display: flex;align-items: stretch;justify-content: center;background-color: white;position: relative;}#sk-container-id-29 div.sk-item::before, #sk-container-id-29 div.sk-parallel-item::before {content: \"\";position: absolute;border-left: 1px solid gray;box-sizing: border-box;top: 0;bottom: 0;left: 50%;z-index: -1;}#sk-container-id-29 div.sk-parallel-item {display: flex;flex-direction: column;z-index: 1;position: relative;background-color: white;}#sk-container-id-29 div.sk-parallel-item:first-child::after {align-self: flex-end;width: 50%;}#sk-container-id-29 div.sk-parallel-item:last-child::after {align-self: flex-start;width: 50%;}#sk-container-id-29 div.sk-parallel-item:only-child::after {width: 0;}#sk-container-id-29 div.sk-dashed-wrapped {border: 1px dashed gray;margin: 0 0.4em 0.5em 0.4em;box-sizing: border-box;padding-bottom: 0.4em;background-color: white;}#sk-container-id-29 div.sk-label label {font-family: monospace;font-weight: bold;display: inline-block;line-height: 1.2em;}#sk-container-id-29 div.sk-label-container {text-align: center;}#sk-container-id-29 div.sk-container {/* jupyter's `normalize.less` sets `[hidden] { display: none; }` but bootstrap.min.css set `[hidden] { display: none !important; }` so we also need the `!important` here to be able to override the default hidden behavior on the sphinx rendered scikit-learn.org. See: https://github.com/scikit-learn/scikit-learn/issues/21755 */display: inline-block !important;position: relative;}#sk-container-id-29 div.sk-text-repr-fallback {display: none;}</style><div id=\"sk-container-id-29\" class=\"sk-top-container\"><div class=\"sk-text-repr-fallback\"><pre>StandardScaler()</pre><b>In a Jupyter environment, please rerun this cell to show the HTML representation or trust the notebook. <br />On GitHub, the HTML representation is unable to render, please try loading this page with nbviewer.org.</b></div><div class=\"sk-container\" hidden><div class=\"sk-item\"><div class=\"sk-estimator sk-toggleable\"><input class=\"sk-toggleable__control sk-hidden--visually\" id=\"sk-estimator-id-29\" type=\"checkbox\" checked><label for=\"sk-estimator-id-29\" class=\"sk-toggleable__label sk-toggleable__label-arrow\">StandardScaler</label><div class=\"sk-toggleable__content\"><pre>StandardScaler()</pre></div></div></div></div></div>"
      ],
      "text/plain": [
       "StandardScaler()"
      ]
     },
     "execution_count": 186,
     "metadata": {},
     "output_type": "execute_result"
    }
   ],
   "source": [
    "from sklearn.preprocessing import StandardScaler\n",
    "scaler = StandardScaler()\n",
    "scaler.fit(X_train)\n",
    "    "
   ]
  },
  {
   "cell_type": "code",
   "execution_count": 187,
   "metadata": {},
   "outputs": [],
   "source": [
    "X_train = scaler.transform(X_train)"
   ]
  },
  {
   "cell_type": "code",
   "execution_count": 188,
   "metadata": {},
   "outputs": [],
   "source": [
    "from imblearn.over_sampling import SMOTE\n",
    "sm = SMOTE(random_state=42)\n",
    "X_train, y_train = sm.fit_resample(X_train, y_train)\n",
    "    "
   ]
  },
  {
   "cell_type": "code",
   "execution_count": 189,
   "metadata": {},
   "outputs": [
    {
     "data": {
      "text/html": [
       "<style>#sk-container-id-30 {color: black;}#sk-container-id-30 pre{padding: 0;}#sk-container-id-30 div.sk-toggleable {background-color: white;}#sk-container-id-30 label.sk-toggleable__label {cursor: pointer;display: block;width: 100%;margin-bottom: 0;padding: 0.3em;box-sizing: border-box;text-align: center;}#sk-container-id-30 label.sk-toggleable__label-arrow:before {content: \"▸\";float: left;margin-right: 0.25em;color: #696969;}#sk-container-id-30 label.sk-toggleable__label-arrow:hover:before {color: black;}#sk-container-id-30 div.sk-estimator:hover label.sk-toggleable__label-arrow:before {color: black;}#sk-container-id-30 div.sk-toggleable__content {max-height: 0;max-width: 0;overflow: hidden;text-align: left;background-color: #f0f8ff;}#sk-container-id-30 div.sk-toggleable__content pre {margin: 0.2em;color: black;border-radius: 0.25em;background-color: #f0f8ff;}#sk-container-id-30 input.sk-toggleable__control:checked~div.sk-toggleable__content {max-height: 200px;max-width: 100%;overflow: auto;}#sk-container-id-30 input.sk-toggleable__control:checked~label.sk-toggleable__label-arrow:before {content: \"▾\";}#sk-container-id-30 div.sk-estimator input.sk-toggleable__control:checked~label.sk-toggleable__label {background-color: #d4ebff;}#sk-container-id-30 div.sk-label input.sk-toggleable__control:checked~label.sk-toggleable__label {background-color: #d4ebff;}#sk-container-id-30 input.sk-hidden--visually {border: 0;clip: rect(1px 1px 1px 1px);clip: rect(1px, 1px, 1px, 1px);height: 1px;margin: -1px;overflow: hidden;padding: 0;position: absolute;width: 1px;}#sk-container-id-30 div.sk-estimator {font-family: monospace;background-color: #f0f8ff;border: 1px dotted black;border-radius: 0.25em;box-sizing: border-box;margin-bottom: 0.5em;}#sk-container-id-30 div.sk-estimator:hover {background-color: #d4ebff;}#sk-container-id-30 div.sk-parallel-item::after {content: \"\";width: 100%;border-bottom: 1px solid gray;flex-grow: 1;}#sk-container-id-30 div.sk-label:hover label.sk-toggleable__label {background-color: #d4ebff;}#sk-container-id-30 div.sk-serial::before {content: \"\";position: absolute;border-left: 1px solid gray;box-sizing: border-box;top: 0;bottom: 0;left: 50%;z-index: 0;}#sk-container-id-30 div.sk-serial {display: flex;flex-direction: column;align-items: center;background-color: white;padding-right: 0.2em;padding-left: 0.2em;position: relative;}#sk-container-id-30 div.sk-item {position: relative;z-index: 1;}#sk-container-id-30 div.sk-parallel {display: flex;align-items: stretch;justify-content: center;background-color: white;position: relative;}#sk-container-id-30 div.sk-item::before, #sk-container-id-30 div.sk-parallel-item::before {content: \"\";position: absolute;border-left: 1px solid gray;box-sizing: border-box;top: 0;bottom: 0;left: 50%;z-index: -1;}#sk-container-id-30 div.sk-parallel-item {display: flex;flex-direction: column;z-index: 1;position: relative;background-color: white;}#sk-container-id-30 div.sk-parallel-item:first-child::after {align-self: flex-end;width: 50%;}#sk-container-id-30 div.sk-parallel-item:last-child::after {align-self: flex-start;width: 50%;}#sk-container-id-30 div.sk-parallel-item:only-child::after {width: 0;}#sk-container-id-30 div.sk-dashed-wrapped {border: 1px dashed gray;margin: 0 0.4em 0.5em 0.4em;box-sizing: border-box;padding-bottom: 0.4em;background-color: white;}#sk-container-id-30 div.sk-label label {font-family: monospace;font-weight: bold;display: inline-block;line-height: 1.2em;}#sk-container-id-30 div.sk-label-container {text-align: center;}#sk-container-id-30 div.sk-container {/* jupyter's `normalize.less` sets `[hidden] { display: none; }` but bootstrap.min.css set `[hidden] { display: none !important; }` so we also need the `!important` here to be able to override the default hidden behavior on the sphinx rendered scikit-learn.org. See: https://github.com/scikit-learn/scikit-learn/issues/21755 */display: inline-block !important;position: relative;}#sk-container-id-30 div.sk-text-repr-fallback {display: none;}</style><div id=\"sk-container-id-30\" class=\"sk-top-container\"><div class=\"sk-text-repr-fallback\"><pre>KNeighborsClassifier(n_neighbors=9)</pre><b>In a Jupyter environment, please rerun this cell to show the HTML representation or trust the notebook. <br />On GitHub, the HTML representation is unable to render, please try loading this page with nbviewer.org.</b></div><div class=\"sk-container\" hidden><div class=\"sk-item\"><div class=\"sk-estimator sk-toggleable\"><input class=\"sk-toggleable__control sk-hidden--visually\" id=\"sk-estimator-id-30\" type=\"checkbox\" checked><label for=\"sk-estimator-id-30\" class=\"sk-toggleable__label sk-toggleable__label-arrow\">KNeighborsClassifier</label><div class=\"sk-toggleable__content\"><pre>KNeighborsClassifier(n_neighbors=9)</pre></div></div></div></div></div>"
      ],
      "text/plain": [
       "KNeighborsClassifier(n_neighbors=9)"
      ]
     },
     "execution_count": 189,
     "metadata": {},
     "output_type": "execute_result"
    }
   ],
   "source": [
    "from sklearn.neighbors import KNeighborsClassifier\n",
    "knn = KNeighborsClassifier(n_neighbors=9)\n",
    "knn.fit(X_train,y_train)\n"
   ]
  },
  {
   "cell_type": "code",
   "execution_count": 190,
   "metadata": {},
   "outputs": [
    {
     "data": {
      "text/plain": [
       "array([0, 1])"
      ]
     },
     "execution_count": 190,
     "metadata": {},
     "output_type": "execute_result"
    }
   ],
   "source": [
    "#No of class labels\n",
    "knn.classes_\n"
   ]
  },
  {
   "cell_type": "code",
   "execution_count": 191,
   "metadata": {},
   "outputs": [
    {
     "data": {
      "text/plain": [
       "{0: 44, 1: 47}"
      ]
     },
     "execution_count": 191,
     "metadata": {},
     "output_type": "execute_result"
    }
   ],
   "source": [
    "#Counting no of 0's and 1's in test data\n",
    "unique, counts = np.unique(y_test, return_counts=True)\n",
    "dict(zip(unique, counts))"
   ]
  },
  {
   "cell_type": "code",
   "execution_count": null,
   "metadata": {},
   "outputs": [],
   "source": []
  },
  {
   "cell_type": "code",
   "execution_count": 192,
   "metadata": {},
   "outputs": [
    {
     "name": "stdout",
     "output_type": "stream",
     "text": [
      "[[43  1]\n",
      " [35 12]]\n",
      "              precision    recall  f1-score   support\n",
      "\n",
      "           0       0.55      0.98      0.70        44\n",
      "           1       0.92      0.26      0.40        47\n",
      "\n",
      "    accuracy                           0.60        91\n",
      "   macro avg       0.74      0.62      0.55        91\n",
      "weighted avg       0.74      0.60      0.55        91\n",
      "\n"
     ]
    },
    {
     "name": "stderr",
     "output_type": "stream",
     "text": [
      "/home/harsh/Main/ML College/.venv/lib/python3.10/site-packages/sklearn/base.py:457: UserWarning: X has feature names, but KNeighborsClassifier was fitted without feature names\n",
      "  warnings.warn(\n"
     ]
    }
   ],
   "source": [
    "from sklearn.metrics import classification_report,confusion_matrix\n",
    "pred = knn.predict(X_test)\n",
    "print(confusion_matrix(y_test,pred))\n",
    "print(classification_report(y_test,pred))\n"
   ]
  },
  {
   "cell_type": "code",
   "execution_count": 193,
   "metadata": {},
   "outputs": [
    {
     "name": "stderr",
     "output_type": "stream",
     "text": [
      "/home/harsh/Main/ML College/.venv/lib/python3.10/site-packages/sklearn/base.py:457: UserWarning: X has feature names, but KNeighborsClassifier was fitted without feature names\n",
      "  warnings.warn(\n"
     ]
    }
   ],
   "source": [
    "accuracy = knn.score(X_test, y_test)"
   ]
  },
  {
   "cell_type": "code",
   "execution_count": 194,
   "metadata": {},
   "outputs": [
    {
     "data": {
      "text/plain": [
       "0.6043956043956044"
      ]
     },
     "execution_count": 194,
     "metadata": {},
     "output_type": "execute_result"
    }
   ],
   "source": [
    "accuracy "
   ]
  },
  {
   "cell_type": "code",
   "execution_count": 195,
   "metadata": {},
   "outputs": [
    {
     "name": "stderr",
     "output_type": "stream",
     "text": [
      "/home/harsh/Main/ML College/.venv/lib/python3.10/site-packages/sklearn/base.py:457: UserWarning: X has feature names, but KNeighborsClassifier was fitted without feature names\n",
      "  warnings.warn(\n",
      "/home/harsh/Main/ML College/.venv/lib/python3.10/site-packages/sklearn/base.py:457: UserWarning: X has feature names, but KNeighborsClassifier was fitted without feature names\n",
      "  warnings.warn(\n",
      "/home/harsh/Main/ML College/.venv/lib/python3.10/site-packages/sklearn/base.py:457: UserWarning: X has feature names, but KNeighborsClassifier was fitted without feature names\n",
      "  warnings.warn(\n",
      "/home/harsh/Main/ML College/.venv/lib/python3.10/site-packages/sklearn/base.py:457: UserWarning: X has feature names, but KNeighborsClassifier was fitted without feature names\n",
      "  warnings.warn(\n",
      "/home/harsh/Main/ML College/.venv/lib/python3.10/site-packages/sklearn/base.py:457: UserWarning: X has feature names, but KNeighborsClassifier was fitted without feature names\n",
      "  warnings.warn(\n",
      "/home/harsh/Main/ML College/.venv/lib/python3.10/site-packages/sklearn/base.py:457: UserWarning: X has feature names, but KNeighborsClassifier was fitted without feature names\n",
      "  warnings.warn(\n",
      "/home/harsh/Main/ML College/.venv/lib/python3.10/site-packages/sklearn/base.py:457: UserWarning: X has feature names, but KNeighborsClassifier was fitted without feature names\n",
      "  warnings.warn(\n",
      "/home/harsh/Main/ML College/.venv/lib/python3.10/site-packages/sklearn/base.py:457: UserWarning: X has feature names, but KNeighborsClassifier was fitted without feature names\n",
      "  warnings.warn(\n",
      "/home/harsh/Main/ML College/.venv/lib/python3.10/site-packages/sklearn/base.py:457: UserWarning: X has feature names, but KNeighborsClassifier was fitted without feature names\n",
      "  warnings.warn(\n",
      "/home/harsh/Main/ML College/.venv/lib/python3.10/site-packages/sklearn/base.py:457: UserWarning: X has feature names, but KNeighborsClassifier was fitted without feature names\n",
      "  warnings.warn(\n",
      "/home/harsh/Main/ML College/.venv/lib/python3.10/site-packages/sklearn/base.py:457: UserWarning: X has feature names, but KNeighborsClassifier was fitted without feature names\n",
      "  warnings.warn(\n",
      "/home/harsh/Main/ML College/.venv/lib/python3.10/site-packages/sklearn/base.py:457: UserWarning: X has feature names, but KNeighborsClassifier was fitted without feature names\n",
      "  warnings.warn(\n",
      "/home/harsh/Main/ML College/.venv/lib/python3.10/site-packages/sklearn/base.py:457: UserWarning: X has feature names, but KNeighborsClassifier was fitted without feature names\n",
      "  warnings.warn(\n",
      "/home/harsh/Main/ML College/.venv/lib/python3.10/site-packages/sklearn/base.py:457: UserWarning: X has feature names, but KNeighborsClassifier was fitted without feature names\n",
      "  warnings.warn(\n",
      "/home/harsh/Main/ML College/.venv/lib/python3.10/site-packages/sklearn/base.py:457: UserWarning: X has feature names, but KNeighborsClassifier was fitted without feature names\n",
      "  warnings.warn(\n",
      "/home/harsh/Main/ML College/.venv/lib/python3.10/site-packages/sklearn/base.py:457: UserWarning: X has feature names, but KNeighborsClassifier was fitted without feature names\n",
      "  warnings.warn(\n",
      "/home/harsh/Main/ML College/.venv/lib/python3.10/site-packages/sklearn/base.py:457: UserWarning: X has feature names, but KNeighborsClassifier was fitted without feature names\n",
      "  warnings.warn(\n",
      "/home/harsh/Main/ML College/.venv/lib/python3.10/site-packages/sklearn/base.py:457: UserWarning: X has feature names, but KNeighborsClassifier was fitted without feature names\n",
      "  warnings.warn(\n",
      "/home/harsh/Main/ML College/.venv/lib/python3.10/site-packages/sklearn/base.py:457: UserWarning: X has feature names, but KNeighborsClassifier was fitted without feature names\n",
      "  warnings.warn(\n",
      "/home/harsh/Main/ML College/.venv/lib/python3.10/site-packages/sklearn/base.py:457: UserWarning: X has feature names, but KNeighborsClassifier was fitted without feature names\n",
      "  warnings.warn(\n",
      "/home/harsh/Main/ML College/.venv/lib/python3.10/site-packages/sklearn/base.py:457: UserWarning: X has feature names, but KNeighborsClassifier was fitted without feature names\n",
      "  warnings.warn(\n",
      "/home/harsh/Main/ML College/.venv/lib/python3.10/site-packages/sklearn/base.py:457: UserWarning: X has feature names, but KNeighborsClassifier was fitted without feature names\n",
      "  warnings.warn(\n",
      "/home/harsh/Main/ML College/.venv/lib/python3.10/site-packages/sklearn/base.py:457: UserWarning: X has feature names, but KNeighborsClassifier was fitted without feature names\n",
      "  warnings.warn(\n",
      "/home/harsh/Main/ML College/.venv/lib/python3.10/site-packages/sklearn/base.py:457: UserWarning: X has feature names, but KNeighborsClassifier was fitted without feature names\n",
      "  warnings.warn(\n",
      "/home/harsh/Main/ML College/.venv/lib/python3.10/site-packages/sklearn/base.py:457: UserWarning: X has feature names, but KNeighborsClassifier was fitted without feature names\n",
      "  warnings.warn(\n",
      "/home/harsh/Main/ML College/.venv/lib/python3.10/site-packages/sklearn/base.py:457: UserWarning: X has feature names, but KNeighborsClassifier was fitted without feature names\n",
      "  warnings.warn(\n",
      "/home/harsh/Main/ML College/.venv/lib/python3.10/site-packages/sklearn/base.py:457: UserWarning: X has feature names, but KNeighborsClassifier was fitted without feature names\n",
      "  warnings.warn(\n",
      "/home/harsh/Main/ML College/.venv/lib/python3.10/site-packages/sklearn/base.py:457: UserWarning: X has feature names, but KNeighborsClassifier was fitted without feature names\n",
      "  warnings.warn(\n",
      "/home/harsh/Main/ML College/.venv/lib/python3.10/site-packages/sklearn/base.py:457: UserWarning: X has feature names, but KNeighborsClassifier was fitted without feature names\n",
      "  warnings.warn(\n",
      "/home/harsh/Main/ML College/.venv/lib/python3.10/site-packages/sklearn/base.py:457: UserWarning: X has feature names, but KNeighborsClassifier was fitted without feature names\n",
      "  warnings.warn(\n",
      "/home/harsh/Main/ML College/.venv/lib/python3.10/site-packages/sklearn/base.py:457: UserWarning: X has feature names, but KNeighborsClassifier was fitted without feature names\n",
      "  warnings.warn(\n",
      "/home/harsh/Main/ML College/.venv/lib/python3.10/site-packages/sklearn/base.py:457: UserWarning: X has feature names, but KNeighborsClassifier was fitted without feature names\n",
      "  warnings.warn(\n",
      "/home/harsh/Main/ML College/.venv/lib/python3.10/site-packages/sklearn/base.py:457: UserWarning: X has feature names, but KNeighborsClassifier was fitted without feature names\n",
      "  warnings.warn(\n",
      "/home/harsh/Main/ML College/.venv/lib/python3.10/site-packages/sklearn/base.py:457: UserWarning: X has feature names, but KNeighborsClassifier was fitted without feature names\n",
      "  warnings.warn(\n",
      "/home/harsh/Main/ML College/.venv/lib/python3.10/site-packages/sklearn/base.py:457: UserWarning: X has feature names, but KNeighborsClassifier was fitted without feature names\n",
      "  warnings.warn(\n",
      "/home/harsh/Main/ML College/.venv/lib/python3.10/site-packages/sklearn/base.py:457: UserWarning: X has feature names, but KNeighborsClassifier was fitted without feature names\n",
      "  warnings.warn(\n",
      "/home/harsh/Main/ML College/.venv/lib/python3.10/site-packages/sklearn/base.py:457: UserWarning: X has feature names, but KNeighborsClassifier was fitted without feature names\n",
      "  warnings.warn(\n",
      "/home/harsh/Main/ML College/.venv/lib/python3.10/site-packages/sklearn/base.py:457: UserWarning: X has feature names, but KNeighborsClassifier was fitted without feature names\n",
      "  warnings.warn(\n",
      "/home/harsh/Main/ML College/.venv/lib/python3.10/site-packages/sklearn/base.py:457: UserWarning: X has feature names, but KNeighborsClassifier was fitted without feature names\n",
      "  warnings.warn(\n"
     ]
    },
    {
     "data": {
      "text/plain": [
       "Text(0, 0.5, 'Error Rate')"
      ]
     },
     "execution_count": 195,
     "metadata": {},
     "output_type": "execute_result"
    },
    {
     "data": {
      "image/png": "[encoded data removed]",
      "text/plain": [
       "<Figure size 1000x600 with 1 Axes>"
      ]
     },
     "metadata": {},
     "output_type": "display_data"
    }
   ],
   "source": [
    "import matplotlib.pyplot as plt\n",
    "error_rate = []\n",
    "\n",
    "for i in range(1,40):\n",
    "        \n",
    "        knn = KNeighborsClassifier(n_neighbors=i)\n",
    "        knn.fit(X_train,y_train)\n",
    "        pred_i = knn.predict(X_test)\n",
    "        \n",
    "        error_rate.append(np.mean(pred_i != y_test))\n",
    "\n",
    "plt.figure(figsize=(10,6))\n",
    "plt.plot(range(1,40),error_rate,color='blue', linestyle='dashed', marker='o',\n",
    "         markerfacecolor='red', markersize=10)\n",
    "plt.title('Error Rate vs. K Value')\n",
    "plt.xlabel('K')\n",
    "plt.ylabel(\"Error Rate\")\n"
   ]
  },
  {
   "cell_type": "code",
   "execution_count": null,
   "metadata": {},
   "outputs": [],
   "source": [
    "#AUTOMOBILE DATASET"
   ]
  },
  {
   "cell_type": "code",
   "execution_count": 1,
   "metadata": {},
   "outputs": [],
   "source": [
    "import pandas as pd\n",
    "import numpy as np"
   ]
  },
  {
   "cell_type": "code",
   "execution_count": 3,
   "metadata": {},
   "outputs": [],
   "source": [
    "df = pd.read_csv('C:\\\\Users\\\\Atharva\\\\Downloads\\\\Automobile_data(1).csv')"
   ]
  },
  {
   "cell_type": "code",
   "execution_count": 4,
   "metadata": {},
   "outputs": [
    {
     "data": {
      "text/html": [
       "<div>\n",
       "<style scoped>\n",
       "    .dataframe tbody tr th:only-of-type {\n",
       "        vertical-align: middle;\n",
       "    }\n",
       "\n",
       "    .dataframe tbody tr th {\n",
       "        vertical-align: top;\n",
       "    }\n",
       "\n",
       "    .dataframe thead th {\n",
       "        text-align: right;\n",
       "    }\n",
       "</style>\n",
       "<table border=\"1\" class=\"dataframe\">\n",
       "  <thead>\n",
       "    <tr style=\"text-align: right;\">\n",
       "      <th></th>\n",
       "      <th>index</th>\n",
       "      <th>company</th>\n",
       "      <th>body-style</th>\n",
       "      <th>wheel-base</th>\n",
       "      <th>length</th>\n",
       "      <th>engine-type</th>\n",
       "      <th>num-of-cylinders</th>\n",
       "      <th>horsepower</th>\n",
       "      <th>average-mileage</th>\n",
       "      <th>price</th>\n",
       "    </tr>\n",
       "  </thead>\n",
       "  <tbody>\n",
       "    <tr>\n",
       "      <th>0</th>\n",
       "      <td>0</td>\n",
       "      <td>alfa-romero</td>\n",
       "      <td>convertible</td>\n",
       "      <td>88.6</td>\n",
       "      <td>168.8</td>\n",
       "      <td>dohc</td>\n",
       "      <td>four</td>\n",
       "      <td>111</td>\n",
       "      <td>21</td>\n",
       "      <td>13495.0</td>\n",
       "    </tr>\n",
       "    <tr>\n",
       "      <th>1</th>\n",
       "      <td>1</td>\n",
       "      <td>alfa-romero</td>\n",
       "      <td>convertible</td>\n",
       "      <td>88.6</td>\n",
       "      <td>168.8</td>\n",
       "      <td>dohc</td>\n",
       "      <td>four</td>\n",
       "      <td>111</td>\n",
       "      <td>21</td>\n",
       "      <td>16500.0</td>\n",
       "    </tr>\n",
       "    <tr>\n",
       "      <th>2</th>\n",
       "      <td>2</td>\n",
       "      <td>alfa-romero</td>\n",
       "      <td>hatchback</td>\n",
       "      <td>94.5</td>\n",
       "      <td>171.2</td>\n",
       "      <td>ohcv</td>\n",
       "      <td>six</td>\n",
       "      <td>154</td>\n",
       "      <td>19</td>\n",
       "      <td>16500.0</td>\n",
       "    </tr>\n",
       "    <tr>\n",
       "      <th>3</th>\n",
       "      <td>3</td>\n",
       "      <td>audi</td>\n",
       "      <td>sedan</td>\n",
       "      <td>99.8</td>\n",
       "      <td>176.6</td>\n",
       "      <td>ohc</td>\n",
       "      <td>four</td>\n",
       "      <td>102</td>\n",
       "      <td>24</td>\n",
       "      <td>13950.0</td>\n",
       "    </tr>\n",
       "    <tr>\n",
       "      <th>4</th>\n",
       "      <td>4</td>\n",
       "      <td>audi</td>\n",
       "      <td>sedan</td>\n",
       "      <td>99.4</td>\n",
       "      <td>176.6</td>\n",
       "      <td>ohc</td>\n",
       "      <td>five</td>\n",
       "      <td>115</td>\n",
       "      <td>18</td>\n",
       "      <td>17450.0</td>\n",
       "    </tr>\n",
       "    <tr>\n",
       "      <th>...</th>\n",
       "      <td>...</td>\n",
       "      <td>...</td>\n",
       "      <td>...</td>\n",
       "      <td>...</td>\n",
       "      <td>...</td>\n",
       "      <td>...</td>\n",
       "      <td>...</td>\n",
       "      <td>...</td>\n",
       "      <td>...</td>\n",
       "      <td>...</td>\n",
       "    </tr>\n",
       "    <tr>\n",
       "      <th>56</th>\n",
       "      <td>81</td>\n",
       "      <td>volkswagen</td>\n",
       "      <td>sedan</td>\n",
       "      <td>97.3</td>\n",
       "      <td>171.7</td>\n",
       "      <td>ohc</td>\n",
       "      <td>four</td>\n",
       "      <td>85</td>\n",
       "      <td>27</td>\n",
       "      <td>7975.0</td>\n",
       "    </tr>\n",
       "    <tr>\n",
       "      <th>57</th>\n",
       "      <td>82</td>\n",
       "      <td>volkswagen</td>\n",
       "      <td>sedan</td>\n",
       "      <td>97.3</td>\n",
       "      <td>171.7</td>\n",
       "      <td>ohc</td>\n",
       "      <td>four</td>\n",
       "      <td>52</td>\n",
       "      <td>37</td>\n",
       "      <td>7995.0</td>\n",
       "    </tr>\n",
       "    <tr>\n",
       "      <th>58</th>\n",
       "      <td>86</td>\n",
       "      <td>volkswagen</td>\n",
       "      <td>sedan</td>\n",
       "      <td>97.3</td>\n",
       "      <td>171.7</td>\n",
       "      <td>ohc</td>\n",
       "      <td>four</td>\n",
       "      <td>100</td>\n",
       "      <td>26</td>\n",
       "      <td>9995.0</td>\n",
       "    </tr>\n",
       "    <tr>\n",
       "      <th>59</th>\n",
       "      <td>87</td>\n",
       "      <td>volvo</td>\n",
       "      <td>sedan</td>\n",
       "      <td>104.3</td>\n",
       "      <td>188.8</td>\n",
       "      <td>ohc</td>\n",
       "      <td>four</td>\n",
       "      <td>114</td>\n",
       "      <td>23</td>\n",
       "      <td>12940.0</td>\n",
       "    </tr>\n",
       "    <tr>\n",
       "      <th>60</th>\n",
       "      <td>88</td>\n",
       "      <td>volvo</td>\n",
       "      <td>wagon</td>\n",
       "      <td>104.3</td>\n",
       "      <td>188.8</td>\n",
       "      <td>ohc</td>\n",
       "      <td>four</td>\n",
       "      <td>114</td>\n",
       "      <td>23</td>\n",
       "      <td>13415.0</td>\n",
       "    </tr>\n",
       "  </tbody>\n",
       "</table>\n",
       "<p>61 rows × 10 columns</p>\n",
       "</div>"
      ],
      "text/plain": [
       "    index      company   body-style  wheel-base  length engine-type  \\\n",
       "0       0  alfa-romero  convertible        88.6   168.8        dohc   \n",
       "1       1  alfa-romero  convertible        88.6   168.8        dohc   \n",
       "2       2  alfa-romero    hatchback        94.5   171.2        ohcv   \n",
       "3       3         audi        sedan        99.8   176.6         ohc   \n",
       "4       4         audi        sedan        99.4   176.6         ohc   \n",
       "..    ...          ...          ...         ...     ...         ...   \n",
       "56     81   volkswagen        sedan        97.3   171.7         ohc   \n",
       "57     82   volkswagen        sedan        97.3   171.7         ohc   \n",
       "58     86   volkswagen        sedan        97.3   171.7         ohc   \n",
       "59     87        volvo        sedan       104.3   188.8         ohc   \n",
       "60     88        volvo        wagon       104.3   188.8         ohc   \n",
       "\n",
       "   num-of-cylinders  horsepower  average-mileage    price  \n",
       "0              four         111               21  13495.0  \n",
       "1              four         111               21  16500.0  \n",
       "2               six         154               19  16500.0  \n",
       "3              four         102               24  13950.0  \n",
       "4              five         115               18  17450.0  \n",
       "..              ...         ...              ...      ...  \n",
       "56             four          85               27   7975.0  \n",
       "57             four          52               37   7995.0  \n",
       "58             four         100               26   9995.0  \n",
       "59             four         114               23  12940.0  \n",
       "60             four         114               23  13415.0  \n",
       "\n",
       "[61 rows x 10 columns]"
      ]
     },
     "execution_count": 4,
     "metadata": {},
     "output_type": "execute_result"
    }
   ],
   "source": [
    "df"
   ]
  },
  {
   "cell_type": "code",
   "execution_count": 5,
   "metadata": {},
   "outputs": [],
   "source": [
    "X = df.iloc[:, 1:-1].values\n",
    "y = df[[\"price\"]]"
   ]
  },
  {
   "cell_type": "code",
   "execution_count": 6,
   "metadata": {},
   "outputs": [],
   "source": [
    "# Encoding categorical data\n",
    "from sklearn.preprocessing import LabelEncoder\n",
    "le = LabelEncoder()\n",
    "X[:, 0] = le.fit_transform(X[:, 0])\n"
   ]
  },
  {
   "cell_type": "code",
   "execution_count": 7,
   "metadata": {},
   "outputs": [
    {
     "data": {
      "text/plain": [
       "array([[0, 'convertible', 88.6, 168.8, 'dohc', 'four', 111, 21],\n",
       "       [0, 'convertible', 88.6, 168.8, 'dohc', 'four', 111, 21],\n",
       "       [0, 'hatchback', 94.5, 171.2, 'ohcv', 'six', 154, 19],\n",
       "       [1, 'sedan', 99.8, 176.6, 'ohc', 'four', 102, 24],\n",
       "       [1, 'sedan', 99.4, 176.6, 'ohc', 'five', 115, 18],\n",
       "       [1, 'sedan', 99.8, 177.3, 'ohc', 'five', 110, 19],\n",
       "       [1, 'wagon', 105.8, 192.7, 'ohc', 'five', 110, 19],\n",
       "       [2, 'sedan', 101.2, 176.8, 'ohc', 'four', 101, 23],\n",
       "       [2, 'sedan', 101.2, 176.8, 'ohc', 'four', 101, 23],\n",
       "       [2, 'sedan', 101.2, 176.8, 'ohc', 'six', 121, 21],\n",
       "       [2, 'sedan', 103.5, 189.0, 'ohc', 'six', 182, 16],\n",
       "       [2, 'sedan', 103.5, 193.8, 'ohc', 'six', 182, 16],\n",
       "       [2, 'sedan', 110.0, 197.0, 'ohc', 'six', 182, 15],\n",
       "       [3, 'hatchback', 88.4, 141.1, 'l', 'three', 48, 47],\n",
       "       [3, 'hatchback', 94.5, 155.9, 'ohc', 'four', 70, 38],\n",
       "       [3, 'sedan', 94.5, 158.8, 'ohc', 'four', 70, 38],\n",
       "       [4, 'hatchback', 93.7, 157.3, 'ohc', 'four', 68, 31],\n",
       "       [4, 'hatchback', 93.7, 157.3, 'ohc', 'four', 68, 31],\n",
       "       [5, 'wagon', 96.5, 157.1, 'ohc', 'four', 76, 30],\n",
       "       [5, 'sedan', 96.5, 175.4, 'ohc', 'four', 101, 24],\n",
       "       [5, 'sedan', 96.5, 169.1, 'ohc', 'four', 100, 25],\n",
       "       [6, 'sedan', 94.3, 170.7, 'ohc', 'four', 78, 24],\n",
       "       [6, 'sedan', 94.5, 155.9, 'ohc', 'four', 70, 38],\n",
       "       [6, 'sedan', 94.5, 155.9, 'ohc', 'four', 70, 38],\n",
       "       [7, 'sedan', 113.0, 199.6, 'dohc', 'six', 176, 15],\n",
       "       [7, 'sedan', 113.0, 199.6, 'dohc', 'six', 176, 15],\n",
       "       [7, 'sedan', 102.0, 191.7, 'ohcv', 'twelve', 262, 13],\n",
       "       [8, 'hatchback', 93.1, 159.1, 'ohc', 'four', 68, 30],\n",
       "       [8, 'hatchback', 93.1, 159.1, 'ohc', 'four', 68, 31],\n",
       "       [8, 'hatchback', 93.1, 159.1, 'ohc', 'four', 68, 31],\n",
       "       [8, 'hatchback', 95.3, 169.0, 'rotor', 'two', 101, 17],\n",
       "       [8, 'sedan', 104.9, 175.0, 'ohc', 'four', 72, 31],\n",
       "       [9, 'sedan', 110.0, 190.9, 'ohc', 'five', 123, 22],\n",
       "       [9, 'wagon', 110.0, 190.9, 'ohc', 'five', 123, 22],\n",
       "       [9, 'sedan', 120.9, 208.1, 'ohcv', 'eight', 184, 14],\n",
       "       [9, 'hardtop', 112.0, 199.2, 'ohcv', 'eight', 184, 14],\n",
       "       [10, 'hatchback', 93.7, 157.3, 'ohc', 'four', 68, 37],\n",
       "       [10, 'hatchback', 93.7, 157.3, 'ohc', 'four', 68, 31],\n",
       "       [10, 'sedan', 96.3, 172.4, 'ohc', 'four', 88, 25],\n",
       "       [10, 'sedan', 96.3, 172.4, 'ohc', 'four', 88, 25],\n",
       "       [11, 'sedan', 94.5, 165.3, 'ohc', 'four', 55, 45],\n",
       "       [11, 'sedan', 94.5, 165.3, 'ohc', 'four', 69, 31],\n",
       "       [11, 'sedan', 94.5, 165.3, 'ohc', 'four', 69, 31],\n",
       "       [11, 'wagon', 94.5, 170.2, 'ohc', 'four', 69, 31],\n",
       "       [11, 'sedan', 100.4, 184.6, 'ohcv', 'six', 152, 19],\n",
       "       [12, 'hardtop', 89.5, 168.9, 'ohcf', 'six', 207, 17],\n",
       "       [12, 'convertible', 89.5, 168.9, 'ohcf', 'six', 207, 17],\n",
       "       [12, 'hatchback', 98.4, 175.7, 'dohcv', 'eight', 288, 17],\n",
       "       [13, 'hatchback', 95.7, 158.7, 'ohc', 'four', 62, 35],\n",
       "       [13, 'hatchback', 95.7, 158.7, 'ohc', 'four', 62, 31],\n",
       "       [13, 'hatchback', 95.7, 158.7, 'ohc', 'four', 62, 31],\n",
       "       [13, 'wagon', 95.7, 169.7, 'ohc', 'four', 62, 31],\n",
       "       [13, 'wagon', 95.7, 169.7, 'ohc', 'four', 62, 27],\n",
       "       [13, 'wagon', 95.7, 169.7, 'ohc', 'four', 62, 27],\n",
       "       [13, 'wagon', 104.5, 187.8, 'dohc', 'six', 156, 19],\n",
       "       [14, 'sedan', 97.3, 171.7, 'ohc', 'four', 52, 37],\n",
       "       [14, 'sedan', 97.3, 171.7, 'ohc', 'four', 85, 27],\n",
       "       [14, 'sedan', 97.3, 171.7, 'ohc', 'four', 52, 37],\n",
       "       [14, 'sedan', 97.3, 171.7, 'ohc', 'four', 100, 26],\n",
       "       [15, 'sedan', 104.3, 188.8, 'ohc', 'four', 114, 23],\n",
       "       [15, 'wagon', 104.3, 188.8, 'ohc', 'four', 114, 23]], dtype=object)"
      ]
     },
     "execution_count": 7,
     "metadata": {},
     "output_type": "execute_result"
    }
   ],
   "source": [
    "X"
   ]
  },
  {
   "cell_type": "code",
   "execution_count": 8,
   "metadata": {},
   "outputs": [],
   "source": [
    "X[:, 1] = le.fit_transform(X[:, 1])"
   ]
  },
  {
   "cell_type": "code",
   "execution_count": 9,
   "metadata": {},
   "outputs": [
    {
     "data": {
      "text/plain": [
       "array([[0, 0, 88.6, 168.8, 'dohc', 'four', 111, 21],\n",
       "       [0, 0, 88.6, 168.8, 'dohc', 'four', 111, 21],\n",
       "       [0, 2, 94.5, 171.2, 'ohcv', 'six', 154, 19],\n",
       "       [1, 3, 99.8, 176.6, 'ohc', 'four', 102, 24],\n",
       "       [1, 3, 99.4, 176.6, 'ohc', 'five', 115, 18],\n",
       "       [1, 3, 99.8, 177.3, 'ohc', 'five', 110, 19],\n",
       "       [1, 4, 105.8, 192.7, 'ohc', 'five', 110, 19],\n",
       "       [2, 3, 101.2, 176.8, 'ohc', 'four', 101, 23],\n",
       "       [2, 3, 101.2, 176.8, 'ohc', 'four', 101, 23],\n",
       "       [2, 3, 101.2, 176.8, 'ohc', 'six', 121, 21],\n",
       "       [2, 3, 103.5, 189.0, 'ohc', 'six', 182, 16],\n",
       "       [2, 3, 103.5, 193.8, 'ohc', 'six', 182, 16],\n",
       "       [2, 3, 110.0, 197.0, 'ohc', 'six', 182, 15],\n",
       "       [3, 2, 88.4, 141.1, 'l', 'three', 48, 47],\n",
       "       [3, 2, 94.5, 155.9, 'ohc', 'four', 70, 38],\n",
       "       [3, 3, 94.5, 158.8, 'ohc', 'four', 70, 38],\n",
       "       [4, 2, 93.7, 157.3, 'ohc', 'four', 68, 31],\n",
       "       [4, 2, 93.7, 157.3, 'ohc', 'four', 68, 31],\n",
       "       [5, 4, 96.5, 157.1, 'ohc', 'four', 76, 30],\n",
       "       [5, 3, 96.5, 175.4, 'ohc', 'four', 101, 24],\n",
       "       [5, 3, 96.5, 169.1, 'ohc', 'four', 100, 25],\n",
       "       [6, 3, 94.3, 170.7, 'ohc', 'four', 78, 24],\n",
       "       [6, 3, 94.5, 155.9, 'ohc', 'four', 70, 38],\n",
       "       [6, 3, 94.5, 155.9, 'ohc', 'four', 70, 38],\n",
       "       [7, 3, 113.0, 199.6, 'dohc', 'six', 176, 15],\n",
       "       [7, 3, 113.0, 199.6, 'dohc', 'six', 176, 15],\n",
       "       [7, 3, 102.0, 191.7, 'ohcv', 'twelve', 262, 13],\n",
       "       [8, 2, 93.1, 159.1, 'ohc', 'four', 68, 30],\n",
       "       [8, 2, 93.1, 159.1, 'ohc', 'four', 68, 31],\n",
       "       [8, 2, 93.1, 159.1, 'ohc', 'four', 68, 31],\n",
       "       [8, 2, 95.3, 169.0, 'rotor', 'two', 101, 17],\n",
       "       [8, 3, 104.9, 175.0, 'ohc', 'four', 72, 31],\n",
       "       [9, 3, 110.0, 190.9, 'ohc', 'five', 123, 22],\n",
       "       [9, 4, 110.0, 190.9, 'ohc', 'five', 123, 22],\n",
       "       [9, 3, 120.9, 208.1, 'ohcv', 'eight', 184, 14],\n",
       "       [9, 1, 112.0, 199.2, 'ohcv', 'eight', 184, 14],\n",
       "       [10, 2, 93.7, 157.3, 'ohc', 'four', 68, 37],\n",
       "       [10, 2, 93.7, 157.3, 'ohc', 'four', 68, 31],\n",
       "       [10, 3, 96.3, 172.4, 'ohc', 'four', 88, 25],\n",
       "       [10, 3, 96.3, 172.4, 'ohc', 'four', 88, 25],\n",
       "       [11, 3, 94.5, 165.3, 'ohc', 'four', 55, 45],\n",
       "       [11, 3, 94.5, 165.3, 'ohc', 'four', 69, 31],\n",
       "       [11, 3, 94.5, 165.3, 'ohc', 'four', 69, 31],\n",
       "       [11, 4, 94.5, 170.2, 'ohc', 'four', 69, 31],\n",
       "       [11, 3, 100.4, 184.6, 'ohcv', 'six', 152, 19],\n",
       "       [12, 1, 89.5, 168.9, 'ohcf', 'six', 207, 17],\n",
       "       [12, 0, 89.5, 168.9, 'ohcf', 'six', 207, 17],\n",
       "       [12, 2, 98.4, 175.7, 'dohcv', 'eight', 288, 17],\n",
       "       [13, 2, 95.7, 158.7, 'ohc', 'four', 62, 35],\n",
       "       [13, 2, 95.7, 158.7, 'ohc', 'four', 62, 31],\n",
       "       [13, 2, 95.7, 158.7, 'ohc', 'four', 62, 31],\n",
       "       [13, 4, 95.7, 169.7, 'ohc', 'four', 62, 31],\n",
       "       [13, 4, 95.7, 169.7, 'ohc', 'four', 62, 27],\n",
       "       [13, 4, 95.7, 169.7, 'ohc', 'four', 62, 27],\n",
       "       [13, 4, 104.5, 187.8, 'dohc', 'six', 156, 19],\n",
       "       [14, 3, 97.3, 171.7, 'ohc', 'four', 52, 37],\n",
       "       [14, 3, 97.3, 171.7, 'ohc', 'four', 85, 27],\n",
       "       [14, 3, 97.3, 171.7, 'ohc', 'four', 52, 37],\n",
       "       [14, 3, 97.3, 171.7, 'ohc', 'four', 100, 26],\n",
       "       [15, 3, 104.3, 188.8, 'ohc', 'four', 114, 23],\n",
       "       [15, 4, 104.3, 188.8, 'ohc', 'four', 114, 23]], dtype=object)"
      ]
     },
     "execution_count": 9,
     "metadata": {},
     "output_type": "execute_result"
    }
   ],
   "source": [
    "X"
   ]
  },
  {
   "cell_type": "code",
   "execution_count": 10,
   "metadata": {},
   "outputs": [],
   "source": [
    "X[:, 5] = le.fit_transform(X[:, 5])"
   ]
  },
  {
   "cell_type": "code",
   "execution_count": 11,
   "metadata": {},
   "outputs": [
    {
     "data": {
      "text/plain": [
       "array([[0, 0, 88.6, 168.8, 'dohc', 2, 111, 21],\n",
       "       [0, 0, 88.6, 168.8, 'dohc', 2, 111, 21],\n",
       "       [0, 2, 94.5, 171.2, 'ohcv', 3, 154, 19],\n",
       "       [1, 3, 99.8, 176.6, 'ohc', 2, 102, 24],\n",
       "       [1, 3, 99.4, 176.6, 'ohc', 1, 115, 18],\n",
       "       [1, 3, 99.8, 177.3, 'ohc', 1, 110, 19],\n",
       "       [1, 4, 105.8, 192.7, 'ohc', 1, 110, 19],\n",
       "       [2, 3, 101.2, 176.8, 'ohc', 2, 101, 23],\n",
       "       [2, 3, 101.2, 176.8, 'ohc', 2, 101, 23],\n",
       "       [2, 3, 101.2, 176.8, 'ohc', 3, 121, 21],\n",
       "       [2, 3, 103.5, 189.0, 'ohc', 3, 182, 16],\n",
       "       [2, 3, 103.5, 193.8, 'ohc', 3, 182, 16],\n",
       "       [2, 3, 110.0, 197.0, 'ohc', 3, 182, 15],\n",
       "       [3, 2, 88.4, 141.1, 'l', 4, 48, 47],\n",
       "       [3, 2, 94.5, 155.9, 'ohc', 2, 70, 38],\n",
       "       [3, 3, 94.5, 158.8, 'ohc', 2, 70, 38],\n",
       "       [4, 2, 93.7, 157.3, 'ohc', 2, 68, 31],\n",
       "       [4, 2, 93.7, 157.3, 'ohc', 2, 68, 31],\n",
       "       [5, 4, 96.5, 157.1, 'ohc', 2, 76, 30],\n",
       "       [5, 3, 96.5, 175.4, 'ohc', 2, 101, 24],\n",
       "       [5, 3, 96.5, 169.1, 'ohc', 2, 100, 25],\n",
       "       [6, 3, 94.3, 170.7, 'ohc', 2, 78, 24],\n",
       "       [6, 3, 94.5, 155.9, 'ohc', 2, 70, 38],\n",
       "       [6, 3, 94.5, 155.9, 'ohc', 2, 70, 38],\n",
       "       [7, 3, 113.0, 199.6, 'dohc', 3, 176, 15],\n",
       "       [7, 3, 113.0, 199.6, 'dohc', 3, 176, 15],\n",
       "       [7, 3, 102.0, 191.7, 'ohcv', 5, 262, 13],\n",
       "       [8, 2, 93.1, 159.1, 'ohc', 2, 68, 30],\n",
       "       [8, 2, 93.1, 159.1, 'ohc', 2, 68, 31],\n",
       "       [8, 2, 93.1, 159.1, 'ohc', 2, 68, 31],\n",
       "       [8, 2, 95.3, 169.0, 'rotor', 6, 101, 17],\n",
       "       [8, 3, 104.9, 175.0, 'ohc', 2, 72, 31],\n",
       "       [9, 3, 110.0, 190.9, 'ohc', 1, 123, 22],\n",
       "       [9, 4, 110.0, 190.9, 'ohc', 1, 123, 22],\n",
       "       [9, 3, 120.9, 208.1, 'ohcv', 0, 184, 14],\n",
       "       [9, 1, 112.0, 199.2, 'ohcv', 0, 184, 14],\n",
       "       [10, 2, 93.7, 157.3, 'ohc', 2, 68, 37],\n",
       "       [10, 2, 93.7, 157.3, 'ohc', 2, 68, 31],\n",
       "       [10, 3, 96.3, 172.4, 'ohc', 2, 88, 25],\n",
       "       [10, 3, 96.3, 172.4, 'ohc', 2, 88, 25],\n",
       "       [11, 3, 94.5, 165.3, 'ohc', 2, 55, 45],\n",
       "       [11, 3, 94.5, 165.3, 'ohc', 2, 69, 31],\n",
       "       [11, 3, 94.5, 165.3, 'ohc', 2, 69, 31],\n",
       "       [11, 4, 94.5, 170.2, 'ohc', 2, 69, 31],\n",
       "       [11, 3, 100.4, 184.6, 'ohcv', 3, 152, 19],\n",
       "       [12, 1, 89.5, 168.9, 'ohcf', 3, 207, 17],\n",
       "       [12, 0, 89.5, 168.9, 'ohcf', 3, 207, 17],\n",
       "       [12, 2, 98.4, 175.7, 'dohcv', 0, 288, 17],\n",
       "       [13, 2, 95.7, 158.7, 'ohc', 2, 62, 35],\n",
       "       [13, 2, 95.7, 158.7, 'ohc', 2, 62, 31],\n",
       "       [13, 2, 95.7, 158.7, 'ohc', 2, 62, 31],\n",
       "       [13, 4, 95.7, 169.7, 'ohc', 2, 62, 31],\n",
       "       [13, 4, 95.7, 169.7, 'ohc', 2, 62, 27],\n",
       "       [13, 4, 95.7, 169.7, 'ohc', 2, 62, 27],\n",
       "       [13, 4, 104.5, 187.8, 'dohc', 3, 156, 19],\n",
       "       [14, 3, 97.3, 171.7, 'ohc', 2, 52, 37],\n",
       "       [14, 3, 97.3, 171.7, 'ohc', 2, 85, 27],\n",
       "       [14, 3, 97.3, 171.7, 'ohc', 2, 52, 37],\n",
       "       [14, 3, 97.3, 171.7, 'ohc', 2, 100, 26],\n",
       "       [15, 3, 104.3, 188.8, 'ohc', 2, 114, 23],\n",
       "       [15, 4, 104.3, 188.8, 'ohc', 2, 114, 23]], dtype=object)"
      ]
     },
     "execution_count": 11,
     "metadata": {},
     "output_type": "execute_result"
    }
   ],
   "source": [
    "X"
   ]
  },
  {
   "cell_type": "code",
   "execution_count": 12,
   "metadata": {},
   "outputs": [],
   "source": [
    "X[:, 4] = le.fit_transform(X[:, 4])"
   ]
  },
  {
   "cell_type": "code",
   "execution_count": 13,
   "metadata": {},
   "outputs": [
    {
     "data": {
      "text/plain": [
       "array([[0, 0, 88.6, 168.8, 0, 2, 111, 21],\n",
       "       [0, 0, 88.6, 168.8, 0, 2, 111, 21],\n",
       "       [0, 2, 94.5, 171.2, 5, 3, 154, 19],\n",
       "       [1, 3, 99.8, 176.6, 3, 2, 102, 24],\n",
       "       [1, 3, 99.4, 176.6, 3, 1, 115, 18],\n",
       "       [1, 3, 99.8, 177.3, 3, 1, 110, 19],\n",
       "       [1, 4, 105.8, 192.7, 3, 1, 110, 19],\n",
       "       [2, 3, 101.2, 176.8, 3, 2, 101, 23],\n",
       "       [2, 3, 101.2, 176.8, 3, 2, 101, 23],\n",
       "       [2, 3, 101.2, 176.8, 3, 3, 121, 21],\n",
       "       [2, 3, 103.5, 189.0, 3, 3, 182, 16],\n",
       "       [2, 3, 103.5, 193.8, 3, 3, 182, 16],\n",
       "       [2, 3, 110.0, 197.0, 3, 3, 182, 15],\n",
       "       [3, 2, 88.4, 141.1, 2, 4, 48, 47],\n",
       "       [3, 2, 94.5, 155.9, 3, 2, 70, 38],\n",
       "       [3, 3, 94.5, 158.8, 3, 2, 70, 38],\n",
       "       [4, 2, 93.7, 157.3, 3, 2, 68, 31],\n",
       "       [4, 2, 93.7, 157.3, 3, 2, 68, 31],\n",
       "       [5, 4, 96.5, 157.1, 3, 2, 76, 30],\n",
       "       [5, 3, 96.5, 175.4, 3, 2, 101, 24],\n",
       "       [5, 3, 96.5, 169.1, 3, 2, 100, 25],\n",
       "       [6, 3, 94.3, 170.7, 3, 2, 78, 24],\n",
       "       [6, 3, 94.5, 155.9, 3, 2, 70, 38],\n",
       "       [6, 3, 94.5, 155.9, 3, 2, 70, 38],\n",
       "       [7, 3, 113.0, 199.6, 0, 3, 176, 15],\n",
       "       [7, 3, 113.0, 199.6, 0, 3, 176, 15],\n",
       "       [7, 3, 102.0, 191.7, 5, 5, 262, 13],\n",
       "       [8, 2, 93.1, 159.1, 3, 2, 68, 30],\n",
       "       [8, 2, 93.1, 159.1, 3, 2, 68, 31],\n",
       "       [8, 2, 93.1, 159.1, 3, 2, 68, 31],\n",
       "       [8, 2, 95.3, 169.0, 6, 6, 101, 17],\n",
       "       [8, 3, 104.9, 175.0, 3, 2, 72, 31],\n",
       "       [9, 3, 110.0, 190.9, 3, 1, 123, 22],\n",
       "       [9, 4, 110.0, 190.9, 3, 1, 123, 22],\n",
       "       [9, 3, 120.9, 208.1, 5, 0, 184, 14],\n",
       "       [9, 1, 112.0, 199.2, 5, 0, 184, 14],\n",
       "       [10, 2, 93.7, 157.3, 3, 2, 68, 37],\n",
       "       [10, 2, 93.7, 157.3, 3, 2, 68, 31],\n",
       "       [10, 3, 96.3, 172.4, 3, 2, 88, 25],\n",
       "       [10, 3, 96.3, 172.4, 3, 2, 88, 25],\n",
       "       [11, 3, 94.5, 165.3, 3, 2, 55, 45],\n",
       "       [11, 3, 94.5, 165.3, 3, 2, 69, 31],\n",
       "       [11, 3, 94.5, 165.3, 3, 2, 69, 31],\n",
       "       [11, 4, 94.5, 170.2, 3, 2, 69, 31],\n",
       "       [11, 3, 100.4, 184.6, 5, 3, 152, 19],\n",
       "       [12, 1, 89.5, 168.9, 4, 3, 207, 17],\n",
       "       [12, 0, 89.5, 168.9, 4, 3, 207, 17],\n",
       "       [12, 2, 98.4, 175.7, 1, 0, 288, 17],\n",
       "       [13, 2, 95.7, 158.7, 3, 2, 62, 35],\n",
       "       [13, 2, 95.7, 158.7, 3, 2, 62, 31],\n",
       "       [13, 2, 95.7, 158.7, 3, 2, 62, 31],\n",
       "       [13, 4, 95.7, 169.7, 3, 2, 62, 31],\n",
       "       [13, 4, 95.7, 169.7, 3, 2, 62, 27],\n",
       "       [13, 4, 95.7, 169.7, 3, 2, 62, 27],\n",
       "       [13, 4, 104.5, 187.8, 0, 3, 156, 19],\n",
       "       [14, 3, 97.3, 171.7, 3, 2, 52, 37],\n",
       "       [14, 3, 97.3, 171.7, 3, 2, 85, 27],\n",
       "       [14, 3, 97.3, 171.7, 3, 2, 52, 37],\n",
       "       [14, 3, 97.3, 171.7, 3, 2, 100, 26],\n",
       "       [15, 3, 104.3, 188.8, 3, 2, 114, 23],\n",
       "       [15, 4, 104.3, 188.8, 3, 2, 114, 23]], dtype=object)"
      ]
     },
     "execution_count": 13,
     "metadata": {},
     "output_type": "execute_result"
    }
   ],
   "source": [
    "X"
   ]
  },
  {
   "cell_type": "code",
   "execution_count": 15,
   "metadata": {},
   "outputs": [],
   "source": [
    "#Handling missing data\n",
    "from sklearn.impute import SimpleImputer\n",
    "imputer = SimpleImputer(missing_values=np.nan, strategy='mean')\n",
    "y = imputer.fit_transform(y)"
   ]
  },
  {
   "cell_type": "code",
   "execution_count": 16,
   "metadata": {},
   "outputs": [],
   "source": [
    "#Train test split\n",
    "from sklearn.model_selection import train_test_split\n",
    "X_train,x_test,y_train,y_test = train_test_split(X,y,test_size=0.2)"
   ]
  },
  {
   "cell_type": "code",
   "execution_count": 17,
   "metadata": {},
   "outputs": [
    {
     "data": {
      "text/plain": [
       "KNeighborsRegressor()"
      ]
     },
     "execution_count": 17,
     "metadata": {},
     "output_type": "execute_result"
    }
   ],
   "source": [
    "from sklearn.neighbors import KNeighborsRegressor\n",
    "reg = KNeighborsRegressor(n_neighbors=5)\n",
    "reg.fit(X_train,y_train)"
   ]
  },
  {
   "cell_type": "code",
   "execution_count": 18,
   "metadata": {},
   "outputs": [],
   "source": [
    "from sklearn.metrics import r2_score\n",
    "y_pred = reg.predict(x_test)\n"
   ]
  },
  {
   "cell_type": "code",
   "execution_count": 19,
   "metadata": {},
   "outputs": [
    {
     "data": {
      "text/plain": [
       "0.4400571609601187"
      ]
     },
     "execution_count": 19,
     "metadata": {},
     "output_type": "execute_result"
    }
   ],
   "source": [
    "r2_score(y_test,y_pred)"
   ]
  },
  {
   "cell_type": "code",
   "execution_count": null,
   "metadata": {},
   "outputs": [],
   "source": []
  }
 ],
 "metadata": {
  "kernelspec": {
   "display_name": "Python 3 (ipykernel)",
   "language": "python",
   "name": "python3"
  },
  "language_info": {
   "codemirror_mode": {
    "name": "ipython",
    "version": 3
   },
   "file_extension": ".py",
   "mimetype": "text/x-python",
   "name": "python",
   "nbconvert_exporter": "python",
   "pygments_lexer": "ipython3",
   "version": "3.9.13"
  }
 },
 "nbformat": 4,
 "nbformat_minor": 2
}
