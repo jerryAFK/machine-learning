{
 "cells": [
  {
   "cell_type": "code",
   "execution_count": null,
   "metadata": {
    "colab": {
     "base_uri": "https://localhost:8080/"
    },
    "id": "9zmCYITBy-sI",
    "outputId": "47173ad7-d4d2-4db7-ea7b-750a539789da"
   },
   "outputs": [
    {
     "name": "stdout",
     "output_type": "stream",
     "text": [
      "Sample data:\n",
      "   LungCap(cc)  Age( years)  Height(inches) Smoke  Gender  Risk\n",
      "0        6.475            6            62.1    no    male     0\n",
      "1       10.125           18            74.7   yes  female     0\n",
      "2        9.550           16            69.7    no  female     1\n",
      "3       11.125           14            71.0    no    male     0\n",
      "4        4.800            5            56.9    no    male     0\n",
      "\n",
      "Data Shape: (725, 6)\n",
      "Data Size: 4350\n",
      "\n",
      "Column Data Types:\n",
      "LungCap(cc)       float64\n",
      "Age( years)         int64\n",
      "Height(inches)    float64\n",
      "Smoke              object\n",
      "Gender             object\n",
      "Risk                int64\n",
      "dtype: object\n",
      "\n",
      "Decision Tree Accuracy: 0.593103448275862\n",
      "\n",
      "Naive Bayes Accuracy: 0.7379310344827587\n"
     ]
    }
   ],
   "source": [
    "import pandas as pd\n",
    "import numpy as np\n",
    "import matplotlib.pyplot as plt\n",
    "import seaborn as sns\n",
    "from sklearn.model_selection import train_test_split\n",
    "from sklearn.tree import DecisionTreeClassifier\n",
    "from sklearn.naive_bayes import GaussianNB\n",
    "from sklearn.metrics import accuracy_score, confusion_matrix\n",
    "from sklearn.preprocessing import LabelEncoder\n",
    "\n",
    "# Step 1: Read and Display Data\n",
    "data = pd.read_excel('Lung Capacity.xlsx')  # Update with the correct file path\n",
    "print(\"Sample data:\")\n",
    "print(data.head())\n",
    "\n",
    "# Step 2: Data Wrangling\n",
    "print(\"\\nData Shape:\", data.shape)\n",
    "print(\"Data Size:\", data.size)\n",
    "print(\"\\nColumn Data Types:\")\n",
    "print(data.dtypes)\n",
    "\n",
    "\n",
    "# Step 3: Data Encoding\n",
    "le = LabelEncoder()\n",
    "data['Smoke'] = le.fit_transform(data['Smoke'])\n",
    "data['Gender'] = le.fit_transform(data['Gender'])\n",
    "\n",
    "# Step 4: Divide data into Train and Test, Feature and Target\n",
    "target_col = 'Risk'\n",
    "X = data.drop(columns=[target_col])\n",
    "y = data[target_col]\n",
    "\n",
    "# Step 5: Implement Decision Tree and Bayesian Classification Model on Data\n",
    "X_train, X_test, y_train, y_test = train_test_split(X, y, test_size=0.2, random_state=42)\n",
    "\n",
    "# Decision Tree\n",
    "dt_model = DecisionTreeClassifier(random_state=42)\n",
    "dt_model.fit(X_train, y_train)\n",
    "y_pred_tree = dt_model.predict(X_test)\n",
    "accuracy_tree = accuracy_score(y_test, y_pred_tree)\n",
    "\n",
    "# Naive Bayes\n",
    "nb_model = GaussianNB()\n",
    "nb_model.fit(X_train, y_train)\n",
    "y_pred_nb = nb_model.predict(X_test)\n",
    "accuracy_nb = accuracy_score(y_test, y_pred_nb)\n",
    "\n",
    "# Display results\n",
    "1\n",
    "\n",
    "\n",
    "print(\"\\nNaive Bayes Accuracy:\", accuracy_nb)\n",
    "\n"
   ]
  },
  {
   "cell_type": "code",
   "execution_count": null,
   "metadata": {
    "colab": {
     "base_uri": "https://localhost:8080/"
    },
    "id": "DGWJmCJF0glG",
    "outputId": "205f066b-6cd1-465f-e4c3-97f2e8d6cbfd"
   },
   "outputs": [
    {
     "name": "stdout",
     "output_type": "stream",
     "text": [
      "\n",
      "Results for DecisionTreeClassifier:\n",
      "StandardScaler Accuracy: 0.5931\n",
      "MinMaxScaler Accuracy: 0.5931\n",
      "RobustScaler Accuracy: 0.5931\n",
      "\n",
      "Results for GaussianNB:\n",
      "StandardScaler Accuracy: 0.7379\n",
      "MinMaxScaler Accuracy: 0.7379\n",
      "RobustScaler Accuracy: 0.7379\n"
     ]
    }
   ],
   "source": [
    "import pandas as pd\n",
    "import matplotlib.pyplot as plt\n",
    "import seaborn as sns\n",
    "from sklearn.model_selection import train_test_split\n",
    "from sklearn.tree import DecisionTreeClassifier\n",
    "from sklearn.naive_bayes import GaussianNB\n",
    "from sklearn.metrics import accuracy_score, confusion_matrix\n",
    "from sklearn.preprocessing import StandardScaler, MinMaxScaler, RobustScaler\n",
    "\n",
    "# Read data and encode categorical variables\n",
    "data = pd.read_excel('Lung Capacity.xlsx')  # Update with the correct file path\n",
    "data['Smoke'] = data['Smoke'].map({'no': 0, 'yes': 1})\n",
    "data['Gender'] = data['Gender'].map({'female': 0, 'male': 1})\n",
    "\n",
    "# Define target column and split data\n",
    "target_col = 'Risk'\n",
    "X = data.drop(columns=[target_col])\n",
    "y = data[target_col]\n",
    "X_train, X_test, y_train, y_test = train_test_split(X, y, test_size=0.2, random_state=42)\n",
    "\n",
    "# Define normalization techniques\n",
    "scalers = [StandardScaler(), MinMaxScaler(), RobustScaler()]\n",
    "\n",
    "# Initialize dictionaries to store results\n",
    "accuracy_results = {}\n",
    "confusion_matrices = {}\n",
    "\n",
    "# Iterate through normalization techniques\n",
    "for scaler in scalers:\n",
    "    X_train_scaled = scaler.fit_transform(X_train)\n",
    "    X_test_scaled = scaler.transform(X_test)\n",
    "\n",
    "    for model in [DecisionTreeClassifier(random_state=42), GaussianNB()]:\n",
    "        model_name = model.__class__.__name__\n",
    "        model.fit(X_train_scaled, y_train)\n",
    "        y_pred = model.predict(X_test_scaled)\n",
    "        accuracy = accuracy_score(y_test, y_pred)\n",
    "        cm = confusion_matrix(y_test, y_pred)\n",
    "\n",
    "        if model_name not in accuracy_results:\n",
    "            accuracy_results[model_name] = {}\n",
    "            confusion_matrices[model_name] = {}\n",
    "\n",
    "        accuracy_results[model_name][scaler.__class__.__name__] = accuracy\n",
    "        confusion_matrices[model_name][scaler.__class__.__name__] = cm\n",
    "\n",
    "# Display results\n",
    "for model_name, results in accuracy_results.items():\n",
    "    print(f\"\\nResults for {model_name}:\")\n",
    "    for scaler_name, accuracy in results.items():\n",
    "        print(f\"{scaler_name} Accuracy: {accuracy:.4f}\")\n",
    "\n"
   ]
  },
  {
   "cell_type": "code",
   "execution_count": null,
   "metadata": {
    "colab": {
     "base_uri": "https://localhost:8080/"
    },
    "id": "QmRQH1nuz8dW",
    "outputId": "367dc863-0935-4093-bb1e-c65b748183f4"
   },
   "outputs": [
    {
     "name": "stdout",
     "output_type": "stream",
     "text": [
      "\n",
      "Results for DecisionTreeClassifier:\n",
      "RFE Accuracy: 0.6414\n",
      "SelectFromModel Accuracy: 0.6414\n",
      "VarianceThreshold Accuracy: 0.5931\n",
      "\n",
      "Results for GaussianNB:\n",
      "RFE Accuracy: 0.7379\n",
      "SelectFromModel Accuracy: 0.7379\n",
      "VarianceThreshold Accuracy: 0.7379\n"
     ]
    }
   ],
   "source": [
    "from sklearn.feature_selection import RFE, SelectFromModel, VarianceThreshold\n",
    "\n",
    "# Define feature selection methods\n",
    "feature_selectors = {\n",
    "    'RFE': RFE(DecisionTreeClassifier(random_state=42), n_features_to_select=3),\n",
    "    'SelectFromModel': SelectFromModel(DecisionTreeClassifier(random_state=42), threshold='mean'),\n",
    "    'VarianceThreshold': VarianceThreshold(threshold=0.05)\n",
    "}\n",
    "\n",
    "# Initialize dictionaries to store results\n",
    "accuracy_results_fs = {}\n",
    "confusion_matrices_fs = {}\n",
    "\n",
    "# Iterate through feature selection methods\n",
    "for fs_name, fs_method in feature_selectors.items():\n",
    "    X_train_fs = fs_method.fit_transform(X_train, y_train)\n",
    "    X_test_fs = fs_method.transform(X_test)\n",
    "\n",
    "    for model in [DecisionTreeClassifier(random_state=42), GaussianNB()]:\n",
    "        model_name = model.__class__.__name__\n",
    "        model.fit(X_train_fs, y_train)\n",
    "        y_pred = model.predict(X_test_fs)\n",
    "        accuracy = accuracy_score(y_test, y_pred)\n",
    "        cm = confusion_matrix(y_test, y_pred)\n",
    "\n",
    "        if model_name not in accuracy_results_fs:\n",
    "            accuracy_results_fs[model_name] = {}\n",
    "            confusion_matrices_fs[model_name] = {}\n",
    "\n",
    "        accuracy_results_fs[model_name][fs_name] = accuracy\n",
    "        confusion_matrices_fs[model_name][fs_name] = cm\n",
    "\n",
    "# Display results\n",
    "for model_name, results in accuracy_results_fs.items():\n",
    "    print(f\"\\nResults for {model_name}:\")\n",
    "    for fs_name, accuracy in results.items():\n",
    "        print(f\"{fs_name} Accuracy: {accuracy:.4f}\")\n"
   ]
  },
  {
   "cell_type": "code",
   "execution_count": null,
   "metadata": {
    "colab": {
     "base_uri": "https://localhost:8080/"
    },
    "id": "It6_dhJq3Zfd",
    "outputId": "a462cbcb-0db2-45bb-8df2-5f38713e32a6"
   },
   "outputs": [
    {
     "name": "stdout",
     "output_type": "stream",
     "text": [
      "\n",
      "Results for DecisionTreeClassifier:\n",
      "PCA Accuracy: 0.6207\n",
      "LDA Accuracy: 0.6690\n",
      "\n",
      "Results for GaussianNB:\n",
      "PCA Accuracy: 0.7379\n",
      "LDA Accuracy: 0.7379\n"
     ]
    }
   ],
   "source": [
    "from sklearn.decomposition import PCA\n",
    "from sklearn.discriminant_analysis import LinearDiscriminantAnalysis as LDA\n",
    "from sklearn.manifold import TSNE\n",
    "\n",
    "# Define dimensionality reduction methods\n",
    "dimensionality_reducers = {\n",
    "    'PCA': PCA(n_components=3),\n",
    "    'LDA': LDA(n_components=1)\n",
    "}\n",
    "\n",
    "# Initialize dictionaries to store results\n",
    "accuracy_results_dr = {}\n",
    "confusion_matrices_dr = {}\n",
    "\n",
    "# Iterate through dimensionality reduction methods\n",
    "for dr_name, dr_method in dimensionality_reducers.items():\n",
    "    X_train_dr = dr_method.fit_transform(X_train, y_train)\n",
    "\n",
    "    for model in [DecisionTreeClassifier(random_state=42), GaussianNB()]:\n",
    "        model_name = model.__class__.__name__\n",
    "        model.fit(X_train_dr, y_train)\n",
    "        X_test_dr = dr_method.transform(X_test)  # Apply the dimensionality reduction on the test set\n",
    "        y_pred = model.predict(X_test_dr)\n",
    "        accuracy = accuracy_score(y_test, y_pred)\n",
    "        cm = confusion_matrix(y_test, y_pred)\n",
    "\n",
    "        if model_name not in accuracy_results_dr:\n",
    "            accuracy_results_dr[model_name] = {}\n",
    "            confusion_matrices_dr[model_name] = {}\n",
    "\n",
    "        accuracy_results_dr[model_name][dr_name] = accuracy\n",
    "        confusion_matrices_dr[model_name][dr_name] = cm\n",
    "\n",
    "# Display results\n",
    "for model_name, results in accuracy_results_dr.items():\n",
    "    print(f\"\\nResults for {model_name}:\")\n",
    "    for dr_name, accuracy in results.items():\n",
    "        print(f\"{dr_name} Accuracy: {accuracy:.4f}\")\n",
    "\n"
   ]
  },
  {
   "cell_type": "code",
   "execution_count": null,
   "metadata": {
    "colab": {
     "base_uri": "https://localhost:8080/",
     "height": 869
    },
    "id": "s1TbUvqF3z3k",
    "outputId": "f2999274-fc8e-4148-a306-a4501de05aa3"
   },
   "outputs": [
    {
     "name": "stdout",
     "output_type": "stream",
     "text": [
      "\n",
      "Results for DecisionTreeClassifier:\n",
      "Accuracy: 0.6276\n",
      "\n",
      "Results for GaussianNB:\n",
      "Accuracy: 0.3724\n"
     ]
    },
    {
     "data": {
      "image/png": "[encoded data removed]",
      "text/plain": [
       "<Figure size 600x400 with 2 Axes>"
      ]
     },
     "metadata": {},
     "output_type": "display_data"
    },
    {
     "data": {
      "image/png": "[encoded data removed]",
      "text/plain": [
       "<Figure size 600x400 with 2 Axes>"
      ]
     },
     "metadata": {},
     "output_type": "display_data"
    }
   ],
   "source": [
    "from imblearn.over_sampling import SMOTE\n",
    "\n",
    "# Apply SMOTE to handle class imbalance\n",
    "smote = SMOTE(random_state=42)\n",
    "X_train_smote, y_train_smote = smote.fit_resample(X_train, y_train)\n",
    "\n",
    "# Initialize dictionaries to store results\n",
    "accuracy_results_smote = {}\n",
    "confusion_matrices_smote = {}\n",
    "\n",
    "# Iterate through models\n",
    "for model in [DecisionTreeClassifier(random_state=42), GaussianNB()]:\n",
    "    model_name = model.__class__.__name__\n",
    "    model.fit(X_train_smote, y_train_smote)\n",
    "    y_pred = model.predict(X_test)\n",
    "    accuracy = accuracy_score(y_test, y_pred)\n",
    "    cm = confusion_matrix(y_test, y_pred)\n",
    "\n",
    "    accuracy_results_smote[model_name] = accuracy\n",
    "    confusion_matrices_smote[model_name] = cm\n",
    "\n",
    "# Display results\n",
    "for model_name, accuracy in accuracy_results_smote.items():\n",
    "    print(f\"\\nResults for {model_name}:\")\n",
    "    print(f\"Accuracy: {accuracy:.4f}\")\n",
    "\n"
   ]
  },
  {
   "cell_type": "code",
   "execution_count": null,
   "metadata": {
    "colab": {
     "base_uri": "https://localhost:8080/",
     "height": 517
    },
    "id": "HGeqo7ix4Dky",
    "outputId": "f68a3da0-eb71-4fb0-933a-7306d6541944"
   },
   "outputs": [
    {
     "name": "stdout",
     "output_type": "stream",
     "text": [
      "Feature: 0, Score: 0.03641\n",
      "Feature: 1, Score: 0.07641\n",
      "Feature: 2, Score: 0.09407\n",
      "Feature: 3, Score: 0.00193\n",
      "Feature: 4, Score: 0.00717\n"
     ]
    },
    {
     "data": {
      "image/png": "[encoded data removed]",
      "text/plain": [
       "<Figure size 640x480 with 1 Axes>"
      ]
     },
     "metadata": {},
     "output_type": "display_data"
    }
   ],
   "source": [
    "from sklearn.datasets import make_classification\n",
    "from sklearn.neighbors import KNeighborsClassifier\n",
    "from sklearn.inspection import permutation_importance\n",
    "\n",
    "model = KNeighborsClassifier()\n",
    "#fit the model\n",
    "model.fit(X , y)\n",
    "#perform permutation importance\n",
    "results = permutation_importance(model , X , y , scoring = 'accuracy')\n",
    "importance = results.importances_mean\n",
    "for i,v in enumerate(importance):\n",
    "  print('Feature: %0d, Score: %.5f' % (i,v))\n",
    "plt.bar([x for x in range(len(importance))], importance)\n",
    "plt.show()"
   ]
  },
  {
   "cell_type": "code",
   "execution_count": null,
   "metadata": {
    "colab": {
     "base_uri": "https://localhost:8080/"
    },
    "id": "JAEUCYcK_5wc",
    "outputId": "1a6e6d05-b7fd-4806-d2b8-2fa0773ef919"
   },
   "outputs": [
    {
     "name": "stdout",
     "output_type": "stream",
     "text": [
      "MSE: 22.418\n",
      "Bias: 20.744\n",
      "Variance: 1.674\n"
     ]
    }
   ],
   "source": [
    "from pandas import read_csv\n",
    "from sklearn.model_selection import train_test_split\n",
    "from sklearn.linear_model import LinearRegression\n",
    "from mlxtend.evaluate import bias_variance_decomp\n",
    "\n",
    "url = 'https://raw.githubusercontent.com/jbrownlee/Datasets/master/housing.csv'\n",
    "df = read_csv(url, header=None)\n",
    "data = df.values\n",
    "X, y = data[:, :-1], data[:, -1]\n",
    "X_train, X_test, y_train, y_test = train_test_split(X, y, test_size=0.33, random_state=1)\n",
    "model = LinearRegression()\n",
    "\n",
    "mse,bias,var = bias_variance_decomp(model, X_train, y_train, X_test, y_test, loss='mse', num_rounds=200, random_seed=1)\n",
    "\n",
    "print('MSE: %.3f' % mse)\n",
    "print('Bias: %.3f' % bias)\n",
    "print('Variance: %.3f' % var)"
   ]
  },
  {
   "cell_type": "code",
   "execution_count": null,
   "metadata": {},
   "outputs": [],
   "source": []
  }
 ],
 "metadata": {
  "colab": {
   "provenance": []
  },
  "kernelspec": {
   "display_name": "Python 3 (ipykernel)",
   "language": "python",
   "name": "python3"
  },
  "language_info": {
   "codemirror_mode": {
    "name": "ipython",
    "version": 3
   },
   "file_extension": ".py",
   "mimetype": "text/x-python",
   "name": "python",
   "nbconvert_exporter": "python",
   "pygments_lexer": "ipython3",
   "version": "3.9.13"
  }
 },
 "nbformat": 4,
 "nbformat_minor": 1
}
